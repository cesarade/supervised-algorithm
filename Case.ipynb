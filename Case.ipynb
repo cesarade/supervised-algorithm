{
 "cells": [
  {
   "cell_type": "code",
   "execution_count": 16,
   "metadata": {},
   "outputs": [],
   "source": [
    "import pandas as pd\n",
    "import matplotlib.pyplot as plt\n",
    "import seaborn as sns"
   ]
  },
  {
   "cell_type": "markdown",
   "metadata": {},
   "source": [
    "# 2. Implementación de un caso práctico\n",
    "\n",
    "Para este ejercicio se proporciona un _dataset_ con datos sobre diferentes clientes de un banco que quieren comprar un piso, y si el banco les ha concedido la hipoteca o no. \n",
    "\n",
    "La información es la siguiente:\n",
    "\n",
    "  - `ingresos`: los ingresos mensuales de la familia.\n",
    "  - `gastos_comunes`: pagos mensuales de luz, agua, gas, etc.\n",
    "  - `pago_coche`: si se está pagando cuota por uno o más coches, y los gastos mensuales en combustible, etc.\n",
    "  - `gastos_otros`: compra mensual en supermercado y lo necesario para vivir.\n",
    "  - `ahorros`: suma de ahorros dispuestos a utilizar para la compra de la casa.\n",
    "  - `vivienda`: precio de la vivienda que quiere comprar esta familia.\n",
    "  - `estado_civil`: 0-soltero, 1-casados, 2-divorciados\n",
    "  - `hijos`: cantidad de hijos menores y que no trabajan.\n",
    "  - `trabajo`: 0-sin empleo, 1-autónomo (freelance), 2-empleado, 3-empresario, 4-pareja: autónomos, 5-pareja: empleados, 6-pareja: autónomo y asalariado, 7-pareja: empresario y autónomo , 8-pareja: empresarios los dos o empresario y empleado\n",
    "  - `hipoteca`: 0-No ha sido concedida, 1-Si que ha sido concedida (esta será nuestra columna de salida, para aprender)\n",
    "  \n",
    "Empezamos leyendo el _dataset_ y viendo una muestra de las primeras filas."
   ]
  },
  {
   "cell_type": "code",
   "execution_count": 8,
   "metadata": {},
   "outputs": [
    {
     "data": {
      "text/html": [
       "<div>\n",
       "<style scoped>\n",
       "    .dataframe tbody tr th:only-of-type {\n",
       "        vertical-align: middle;\n",
       "    }\n",
       "\n",
       "    .dataframe tbody tr th {\n",
       "        vertical-align: top;\n",
       "    }\n",
       "\n",
       "    .dataframe thead th {\n",
       "        text-align: right;\n",
       "    }\n",
       "</style>\n",
       "<table border=\"1\" class=\"dataframe\">\n",
       "  <thead>\n",
       "    <tr style=\"text-align: right;\">\n",
       "      <th></th>\n",
       "      <th>ingresos</th>\n",
       "      <th>gastos_comunes</th>\n",
       "      <th>pago_coche</th>\n",
       "      <th>gastos_otros</th>\n",
       "      <th>ahorros</th>\n",
       "      <th>vivienda</th>\n",
       "      <th>estado_civil</th>\n",
       "      <th>hijos</th>\n",
       "      <th>trabajo</th>\n",
       "      <th>hipoteca</th>\n",
       "    </tr>\n",
       "  </thead>\n",
       "  <tbody>\n",
       "    <tr>\n",
       "      <th>0</th>\n",
       "      <td>6000</td>\n",
       "      <td>1000</td>\n",
       "      <td>0</td>\n",
       "      <td>600</td>\n",
       "      <td>50000</td>\n",
       "      <td>400000</td>\n",
       "      <td>0</td>\n",
       "      <td>2</td>\n",
       "      <td>2</td>\n",
       "      <td>1</td>\n",
       "    </tr>\n",
       "    <tr>\n",
       "      <th>1</th>\n",
       "      <td>6745</td>\n",
       "      <td>944</td>\n",
       "      <td>123</td>\n",
       "      <td>429</td>\n",
       "      <td>43240</td>\n",
       "      <td>636897</td>\n",
       "      <td>1</td>\n",
       "      <td>3</td>\n",
       "      <td>6</td>\n",
       "      <td>0</td>\n",
       "    </tr>\n",
       "    <tr>\n",
       "      <th>2</th>\n",
       "      <td>6455</td>\n",
       "      <td>1033</td>\n",
       "      <td>98</td>\n",
       "      <td>795</td>\n",
       "      <td>57463</td>\n",
       "      <td>321779</td>\n",
       "      <td>2</td>\n",
       "      <td>1</td>\n",
       "      <td>8</td>\n",
       "      <td>1</td>\n",
       "    </tr>\n",
       "    <tr>\n",
       "      <th>3</th>\n",
       "      <td>7098</td>\n",
       "      <td>1278</td>\n",
       "      <td>15</td>\n",
       "      <td>254</td>\n",
       "      <td>54506</td>\n",
       "      <td>660933</td>\n",
       "      <td>0</td>\n",
       "      <td>0</td>\n",
       "      <td>3</td>\n",
       "      <td>0</td>\n",
       "    </tr>\n",
       "    <tr>\n",
       "      <th>4</th>\n",
       "      <td>6167</td>\n",
       "      <td>863</td>\n",
       "      <td>223</td>\n",
       "      <td>520</td>\n",
       "      <td>41512</td>\n",
       "      <td>348932</td>\n",
       "      <td>0</td>\n",
       "      <td>0</td>\n",
       "      <td>3</td>\n",
       "      <td>1</td>\n",
       "    </tr>\n",
       "    <tr>\n",
       "      <th>5</th>\n",
       "      <td>5692</td>\n",
       "      <td>911</td>\n",
       "      <td>11</td>\n",
       "      <td>325</td>\n",
       "      <td>50875</td>\n",
       "      <td>360863</td>\n",
       "      <td>1</td>\n",
       "      <td>4</td>\n",
       "      <td>5</td>\n",
       "      <td>1</td>\n",
       "    </tr>\n",
       "    <tr>\n",
       "      <th>6</th>\n",
       "      <td>6830</td>\n",
       "      <td>1298</td>\n",
       "      <td>345</td>\n",
       "      <td>309</td>\n",
       "      <td>46761</td>\n",
       "      <td>429812</td>\n",
       "      <td>1</td>\n",
       "      <td>1</td>\n",
       "      <td>5</td>\n",
       "      <td>1</td>\n",
       "    </tr>\n",
       "    <tr>\n",
       "      <th>7</th>\n",
       "      <td>6470</td>\n",
       "      <td>1035</td>\n",
       "      <td>39</td>\n",
       "      <td>782</td>\n",
       "      <td>57439</td>\n",
       "      <td>606291</td>\n",
       "      <td>0</td>\n",
       "      <td>0</td>\n",
       "      <td>1</td>\n",
       "      <td>0</td>\n",
       "    </tr>\n",
       "    <tr>\n",
       "      <th>8</th>\n",
       "      <td>6251</td>\n",
       "      <td>1250</td>\n",
       "      <td>209</td>\n",
       "      <td>571</td>\n",
       "      <td>50503</td>\n",
       "      <td>291010</td>\n",
       "      <td>0</td>\n",
       "      <td>0</td>\n",
       "      <td>3</td>\n",
       "      <td>1</td>\n",
       "    </tr>\n",
       "    <tr>\n",
       "      <th>9</th>\n",
       "      <td>6987</td>\n",
       "      <td>1258</td>\n",
       "      <td>252</td>\n",
       "      <td>245</td>\n",
       "      <td>40611</td>\n",
       "      <td>324098</td>\n",
       "      <td>2</td>\n",
       "      <td>1</td>\n",
       "      <td>7</td>\n",
       "      <td>1</td>\n",
       "    </tr>\n",
       "  </tbody>\n",
       "</table>\n",
       "</div>"
      ],
      "text/plain": [
       "   ingresos  gastos_comunes  pago_coche  gastos_otros  ahorros  vivienda  \\\n",
       "0      6000            1000           0           600    50000    400000   \n",
       "1      6745             944         123           429    43240    636897   \n",
       "2      6455            1033          98           795    57463    321779   \n",
       "3      7098            1278          15           254    54506    660933   \n",
       "4      6167             863         223           520    41512    348932   \n",
       "5      5692             911          11           325    50875    360863   \n",
       "6      6830            1298         345           309    46761    429812   \n",
       "7      6470            1035          39           782    57439    606291   \n",
       "8      6251            1250         209           571    50503    291010   \n",
       "9      6987            1258         252           245    40611    324098   \n",
       "\n",
       "   estado_civil  hijos  trabajo  hipoteca  \n",
       "0             0      2        2         1  \n",
       "1             1      3        6         0  \n",
       "2             2      1        8         1  \n",
       "3             0      0        3         0  \n",
       "4             0      0        3         1  \n",
       "5             1      4        5         1  \n",
       "6             1      1        5         1  \n",
       "7             0      0        1         0  \n",
       "8             0      0        3         1  \n",
       "9             2      1        7         1  "
      ]
     },
     "execution_count": 8,
     "metadata": {},
     "output_type": "execute_result"
    }
   ],
   "source": [
    "hipotecas = pd.read_csv(\"hipotecas.csv\")\n",
    "hipotecas.head(10)"
   ]
  },
  {
   "cell_type": "markdown",
   "metadata": {},
   "source": [
    "### 2.1. Análisis descriptivo\n",
    "\n",
    "Cuando se nos proporciona un _dataset_, antes de empezar a hacer nada, es muy importante hacer un análisis exploratorio para conocer los datos con los que trabajaremos."
   ]
  },
  {
   "cell_type": "code",
   "execution_count": 9,
   "metadata": {},
   "outputs": [
    {
     "data": {
      "image/png": "[encoded data removed]",
      "text/plain": [
       "<Figure size 1080x720 with 4 Axes>"
      ]
     },
     "metadata": {
      "needs_background": "light"
     },
     "output_type": "display_data"
    }
   ],
   "source": [
    "fx, axs = plt.subplots(2,2, figsize=(15,10))\n",
    "\n",
    "result = hipotecas.hipoteca.value_counts()\n",
    "axs[0][0].set_title(\"Cantidad de clientes con hipotecas\")\n",
    "axs[0][0].bar(result.index, result)\n",
    "axs[0][0].set_xticks([0,1])\n",
    "\n",
    "result = hipotecas.estado_civil.value_counts()\n",
    "axs[0][1].set_title(\"Estado Civil\")\n",
    "axs[0][1].bar(result.index, result)\n",
    "axs[0][1].set_xticks([0,1,2])\n",
    "\n",
    "result = hipotecas.hijos.value_counts()\n",
    "axs[1][0].set_title(\"Número de hijos\")\n",
    "axs[1][0].bar(result.index, result)\n",
    "axs[1][0].set_xticks([0,1, 2,3,4])\n",
    "\n",
    "\n",
    "result = hipotecas.trabajo.value_counts()\n",
    "axs[1][1].set_title(\"Tipos de trabajo\")\n",
    "axs[1][1].bar(result.index, result)\n",
    "axs[1][1].set_xticks([0,1, 2,3,4,5,6,7,8])\n",
    "\n",
    "plt.show()"
   ]
  },
  {
   "cell_type": "markdown",
   "metadata": {},
   "source": [
    "* Se visualiza que existen más clientes sin hipoteca que con hipoteca.\n",
    "* En el dataset existen más divorciados que casados o solteros.\n",
    "* Se observa que la mayoría de los clientes tiene un trabajo de pareja. \n",
    "* Se evidencia que pocos clientes que no tienen empleo.\n",
    "* La mayoría de los clientes no tiene hijos."
   ]
  },
  {
   "cell_type": "code",
   "execution_count": 10,
   "metadata": {},
   "outputs": [
    {
     "data": {
      "image/png": "[encoded data removed]",
      "text/plain": [
       "<Figure size 1080x720 with 6 Axes>"
      ]
     },
     "metadata": {
      "needs_background": "light"
     },
     "output_type": "display_data"
    }
   ],
   "source": [
    "fx, axs = plt.subplots(3,2, figsize=(15,10))\n",
    "\n",
    "axs[0][0].hist(hipotecas['ingresos'], bins=50)\n",
    "axs[0][0].set_title('Ingresos')\n",
    "\n",
    "axs[0][1].hist(hipotecas['gastos_comunes'], bins=50)\n",
    "axs[0][1].set_title('Gastos comunes')\n",
    "\n",
    "axs[1][0].hist(hipotecas['pago_coche'], bins=50)\n",
    "axs[1][0].set_title('Pago de coche')\n",
    "\n",
    "axs[1][1].hist(hipotecas['gastos_otros'], bins=50)\n",
    "axs[1][1].set_title('Gastos otros')\n",
    "\n",
    "axs[2][0].hist(hipotecas['ahorros'], bins=50)\n",
    "axs[2][0].set_title('Ahorros')\n",
    "\n",
    "axs[2][1].hist(hipotecas['vivienda'], bins=50)\n",
    "axs[2][1].set_title('Precio de la vivienda')\n",
    "\n",
    "\n",
    "plt.show()"
   ]
  },
  {
   "cell_type": "markdown",
   "metadata": {},
   "source": [
    "* En los histogramas de ingresos, gatos comunes, pago de coches, otros gatos y ahorros se observan algunos clústers posiblemente debido al trabajo que realizan y por los ingresos mensuales percibidos.\n",
    "\n",
    "* En el histograma del precio de las viviendas se observan de dos a tres clúster, posiblemente divididos por casas comunes y casas de lujo."
   ]
  },
  {
   "cell_type": "markdown",
   "metadata": {},
   "source": [
    "### 2.2. Preprocesamiento de los datos\n",
    "\n",
    "Una vez hecho un primer análisis, se trata de \"limpiar\" el dataset y adaptarlo a nuestras necesidades (en este caso, predecir si se concederá la hipoteca o no)."
   ]
  },
  {
   "cell_type": "code",
   "execution_count": 11,
   "metadata": {},
   "outputs": [
    {
     "data": {
      "text/plain": [
       "ingresos          0\n",
       "gastos_comunes    0\n",
       "pago_coche        0\n",
       "gastos_otros      0\n",
       "ahorros           0\n",
       "vivienda          0\n",
       "estado_civil      0\n",
       "hijos             0\n",
       "trabajo           0\n",
       "hipoteca          0\n",
       "dtype: int64"
      ]
     },
     "execution_count": 11,
     "metadata": {},
     "output_type": "execute_result"
    }
   ],
   "source": [
    "hipotecas.isnull().sum()"
   ]
  },
  {
   "cell_type": "code",
   "execution_count": 12,
   "metadata": {},
   "outputs": [],
   "source": [
    "hipotecas['gastos'] = hipotecas['pago_coche'] + hipotecas['gastos_comunes'] + hipotecas['gastos_otros']\n",
    "hipotecas['financiar'] = hipotecas['vivienda'] + hipotecas['ahorros']"
   ]
  },
  {
   "cell_type": "code",
   "execution_count": 13,
   "metadata": {},
   "outputs": [],
   "source": [
    "hipotecas = hipotecas.drop(['pago_coche', 'gastos_comunes', 'gastos_otros', 'vivienda', 'ahorros'], axis=1)"
   ]
  },
  {
   "cell_type": "code",
   "execution_count": 14,
   "metadata": {},
   "outputs": [
    {
     "data": {
      "text/html": [
       "<div>\n",
       "<style scoped>\n",
       "    .dataframe tbody tr th:only-of-type {\n",
       "        vertical-align: middle;\n",
       "    }\n",
       "\n",
       "    .dataframe tbody tr th {\n",
       "        vertical-align: top;\n",
       "    }\n",
       "\n",
       "    .dataframe thead th {\n",
       "        text-align: right;\n",
       "    }\n",
       "</style>\n",
       "<table border=\"1\" class=\"dataframe\">\n",
       "  <thead>\n",
       "    <tr style=\"text-align: right;\">\n",
       "      <th></th>\n",
       "      <th>ingresos</th>\n",
       "      <th>estado_civil</th>\n",
       "      <th>hijos</th>\n",
       "      <th>trabajo</th>\n",
       "      <th>hipoteca</th>\n",
       "      <th>gastos</th>\n",
       "      <th>financiar</th>\n",
       "    </tr>\n",
       "  </thead>\n",
       "  <tbody>\n",
       "    <tr>\n",
       "      <th>0</th>\n",
       "      <td>6000</td>\n",
       "      <td>0</td>\n",
       "      <td>2</td>\n",
       "      <td>2</td>\n",
       "      <td>1</td>\n",
       "      <td>1600</td>\n",
       "      <td>450000</td>\n",
       "    </tr>\n",
       "    <tr>\n",
       "      <th>1</th>\n",
       "      <td>6745</td>\n",
       "      <td>1</td>\n",
       "      <td>3</td>\n",
       "      <td>6</td>\n",
       "      <td>0</td>\n",
       "      <td>1496</td>\n",
       "      <td>680137</td>\n",
       "    </tr>\n",
       "    <tr>\n",
       "      <th>2</th>\n",
       "      <td>6455</td>\n",
       "      <td>2</td>\n",
       "      <td>1</td>\n",
       "      <td>8</td>\n",
       "      <td>1</td>\n",
       "      <td>1926</td>\n",
       "      <td>379242</td>\n",
       "    </tr>\n",
       "    <tr>\n",
       "      <th>3</th>\n",
       "      <td>7098</td>\n",
       "      <td>0</td>\n",
       "      <td>0</td>\n",
       "      <td>3</td>\n",
       "      <td>0</td>\n",
       "      <td>1547</td>\n",
       "      <td>715439</td>\n",
       "    </tr>\n",
       "    <tr>\n",
       "      <th>4</th>\n",
       "      <td>6167</td>\n",
       "      <td>0</td>\n",
       "      <td>0</td>\n",
       "      <td>3</td>\n",
       "      <td>1</td>\n",
       "      <td>1606</td>\n",
       "      <td>390444</td>\n",
       "    </tr>\n",
       "  </tbody>\n",
       "</table>\n",
       "</div>"
      ],
      "text/plain": [
       "   ingresos  estado_civil  hijos  trabajo  hipoteca  gastos  financiar\n",
       "0      6000             0      2        2         1    1600     450000\n",
       "1      6745             1      3        6         0    1496     680137\n",
       "2      6455             2      1        8         1    1926     379242\n",
       "3      7098             0      0        3         0    1547     715439\n",
       "4      6167             0      0        3         1    1606     390444"
      ]
     },
     "execution_count": 14,
     "metadata": {},
     "output_type": "execute_result"
    }
   ],
   "source": [
    "hipotecas.head()"
   ]
  },
  {
   "cell_type": "markdown",
   "metadata": {},
   "source": [
    "El siguiente paso sería ver la correlación entre todas las _features_ numéricas. Esto se hace para asegurar que no hay dos variables muy relacionadas entre sí, ya que en tal caso se debería seleccionar una de las dos o combinarlas en una nueva."
   ]
  },
  {
   "cell_type": "code",
   "execution_count": 15,
   "metadata": {},
   "outputs": [
    {
     "data": {
      "text/html": [
       "<div>\n",
       "<style scoped>\n",
       "    .dataframe tbody tr th:only-of-type {\n",
       "        vertical-align: middle;\n",
       "    }\n",
       "\n",
       "    .dataframe tbody tr th {\n",
       "        vertical-align: top;\n",
       "    }\n",
       "\n",
       "    .dataframe thead th {\n",
       "        text-align: right;\n",
       "    }\n",
       "</style>\n",
       "<table border=\"1\" class=\"dataframe\">\n",
       "  <thead>\n",
       "    <tr style=\"text-align: right;\">\n",
       "      <th></th>\n",
       "      <th>ingresos</th>\n",
       "      <th>estado_civil</th>\n",
       "      <th>hijos</th>\n",
       "      <th>trabajo</th>\n",
       "      <th>gastos</th>\n",
       "      <th>financiar</th>\n",
       "    </tr>\n",
       "  </thead>\n",
       "  <tbody>\n",
       "    <tr>\n",
       "      <th>ingresos</th>\n",
       "      <td>1.0</td>\n",
       "      <td>NaN</td>\n",
       "      <td>NaN</td>\n",
       "      <td>NaN</td>\n",
       "      <td>NaN</td>\n",
       "      <td>NaN</td>\n",
       "    </tr>\n",
       "    <tr>\n",
       "      <th>estado_civil</th>\n",
       "      <td>NaN</td>\n",
       "      <td>1.0</td>\n",
       "      <td>NaN</td>\n",
       "      <td>NaN</td>\n",
       "      <td>NaN</td>\n",
       "      <td>NaN</td>\n",
       "    </tr>\n",
       "    <tr>\n",
       "      <th>hijos</th>\n",
       "      <td>NaN</td>\n",
       "      <td>NaN</td>\n",
       "      <td>1.0</td>\n",
       "      <td>NaN</td>\n",
       "      <td>NaN</td>\n",
       "      <td>NaN</td>\n",
       "    </tr>\n",
       "    <tr>\n",
       "      <th>trabajo</th>\n",
       "      <td>NaN</td>\n",
       "      <td>NaN</td>\n",
       "      <td>NaN</td>\n",
       "      <td>1.0</td>\n",
       "      <td>NaN</td>\n",
       "      <td>NaN</td>\n",
       "    </tr>\n",
       "    <tr>\n",
       "      <th>gastos</th>\n",
       "      <td>NaN</td>\n",
       "      <td>NaN</td>\n",
       "      <td>NaN</td>\n",
       "      <td>NaN</td>\n",
       "      <td>1.0</td>\n",
       "      <td>NaN</td>\n",
       "    </tr>\n",
       "    <tr>\n",
       "      <th>financiar</th>\n",
       "      <td>NaN</td>\n",
       "      <td>NaN</td>\n",
       "      <td>NaN</td>\n",
       "      <td>NaN</td>\n",
       "      <td>NaN</td>\n",
       "      <td>1.0</td>\n",
       "    </tr>\n",
       "  </tbody>\n",
       "</table>\n",
       "</div>"
      ],
      "text/plain": [
       "              ingresos  estado_civil  hijos  trabajo  gastos  financiar\n",
       "ingresos           1.0           NaN    NaN      NaN     NaN        NaN\n",
       "estado_civil       NaN           1.0    NaN      NaN     NaN        NaN\n",
       "hijos              NaN           NaN    1.0      NaN     NaN        NaN\n",
       "trabajo            NaN           NaN    NaN      1.0     NaN        NaN\n",
       "gastos             NaN           NaN    NaN      NaN     1.0        NaN\n",
       "financiar          NaN           NaN    NaN      NaN     NaN        1.0"
      ]
     },
     "execution_count": 15,
     "metadata": {},
     "output_type": "execute_result"
    }
   ],
   "source": [
    "features = ['ingresos', 'estado_civil', 'hijos', 'trabajo', 'gastos', 'financiar']\n",
    "\n",
    "corr = hipotecas[features].corr()\n",
    "corr[corr>0.8]"
   ]
  },
  {
   "cell_type": "code",
   "execution_count": 17,
   "metadata": {},
   "outputs": [
    {
     "data": {
      "image/png": "[encoded data removed]",
      "text/plain": [
       "<Figure size 432x288 with 2 Axes>"
      ]
     },
     "metadata": {
      "needs_background": "light"
     },
     "output_type": "display_data"
    }
   ],
   "source": [
    "sns.heatmap(corr)\n",
    "plt.show()"
   ]
  },
  {
   "cell_type": "markdown",
   "metadata": {},
   "source": [
    "No existen variables con dos variables que tengan una correlación mayor al 80%.\n",
    "\n",
    "Ya tenemos las variables finales con las que trabajaremos. Vamos a observar ahora cuál es la relación de cada una de ellas con el `target`."
   ]
  },
  {
   "cell_type": "code",
   "execution_count": 18,
   "metadata": {},
   "outputs": [
    {
     "data": {
      "image/png": "[encoded data removed]",
      "text/plain": [
       "<Figure size 432x288 with 1 Axes>"
      ]
     },
     "metadata": {
      "needs_background": "light"
     },
     "output_type": "display_data"
    }
   ],
   "source": [
    "bar_width = 0.45\n",
    "opacity = 0.4\n",
    "result1 = hipotecas[hipotecas['hipoteca'] == 1].estado_civil.value_counts()\n",
    "result0 = hipotecas[hipotecas['hipoteca'] == 0].estado_civil.value_counts()\n",
    "\n",
    "rects1 = plt.bar(result1.index, result1, bar_width,\n",
    "                 alpha=opacity,\n",
    "                 color='b',\n",
    "                 label='Con hipotecas')\n",
    "\n",
    "rects2 = plt.bar(result0.index + bar_width, result0, bar_width,\n",
    "                 alpha=opacity,\n",
    "                 color='r',\n",
    "                 label='Sin hipotecas')\n",
    "plt.xticks(result0.index + bar_width / 2, ('solteros', 'divorciados', 'casados'))\n",
    "plt.title('Estado civil')\n",
    "plt.legend()\n",
    "plt.show()"
   ]
  },
  {
   "cell_type": "markdown",
   "metadata": {},
   "source": [
    "Se observa que los cliente solteros y divorciados son lo que menos tienen hipotecas, por otro lado, los clientes casados son los que más tienen hipotecas."
   ]
  },
  {
   "cell_type": "code",
   "execution_count": 19,
   "metadata": {},
   "outputs": [
    {
     "data": {
      "image/png": "[encoded data removed]",
      "text/plain": [
       "<Figure size 432x288 with 1 Axes>"
      ]
     },
     "metadata": {
      "needs_background": "light"
     },
     "output_type": "display_data"
    }
   ],
   "source": [
    "result1 = hipotecas[hipotecas['hipoteca'] == 1].hijos.value_counts()\n",
    "result0 = hipotecas[hipotecas['hipoteca'] == 0].hijos.value_counts()\n",
    "\n",
    "rects1 = plt.bar(result1.index, result1, bar_width,\n",
    "                 alpha=opacity,\n",
    "                 color='b',\n",
    "                 label='Con hipotecas')\n",
    "\n",
    "rects2 = plt.bar(result0.index + bar_width, result0, bar_width,\n",
    "                 alpha=opacity,\n",
    "                 color='r',\n",
    "                 label='Sin hipotecas')\n",
    "\n",
    "plt.xticks(result0.index + bar_width / 2, ('0', '2', '3','1','4'))\n",
    "plt.title('Número de hijos')\n",
    "plt.legend()\n",
    "plt.show()"
   ]
  },
  {
   "cell_type": "markdown",
   "metadata": {},
   "source": [
    "Las personas con más hipotecas son las que tienen uno o cuatro hijo. Muy posiblemente, un cliente sin hijo no tenga una hipoteca."
   ]
  },
  {
   "cell_type": "code",
   "execution_count": 20,
   "metadata": {},
   "outputs": [
    {
     "data": {
      "image/png": "[encoded data removed]",
      "text/plain": [
       "<Figure size 1080x360 with 1 Axes>"
      ]
     },
     "metadata": {
      "needs_background": "light"
     },
     "output_type": "display_data"
    }
   ],
   "source": [
    "plt.figure(figsize=(15, 5))\n",
    "result = hipotecas.trabajo.value_counts()\n",
    "\n",
    "result1 = hipotecas[hipotecas['hipoteca'] == 1].trabajo.value_counts()\n",
    "result0 = hipotecas[hipotecas['hipoteca'] == 0].trabajo.value_counts()\n",
    "\n",
    "rects1 = plt.bar(result1.index, result1, bar_width,\n",
    "                 alpha=opacity,\n",
    "                 color='b',\n",
    "                 label='Con hipotecas')\n",
    "\n",
    "rects2 = plt.bar(result0.index + bar_width, result0, bar_width,\n",
    "                 alpha=opacity,\n",
    "                 color='r',\n",
    "                 label='Sin hipotecas')\n",
    "\n",
    "plt.xticks(result0.index + bar_width / 2, (\n",
    "    'empresario', \n",
    "    'empleado', \n",
    "    'autónomo', \n",
    "    'sin empleo', \n",
    "    'empresarios los dos', \n",
    "    'pareja: empleados', \n",
    "    'empresario y autónomo', \n",
    "    'autónomo y asalariado', \n",
    "'pareja: autónomos'), rotation = 30)\n",
    "plt.title('Tipos de trabajo')\n",
    "plt.xticks()\n",
    "plt.legend()\n",
    "plt.show()"
   ]
  },
  {
   "cell_type": "markdown",
   "metadata": {},
   "source": [
    "Los cliente que son empleados en pareja son los que más hipotecas tienen, seguidos por los empresarios los dos o empresario y empleado. Los que menos tienen hipotecas son los autónomos, empleados y empresarios.\n",
    "\n",
    "Finalmente, sólo nos queda pasar las variables categóricas a numéricas. Observad que a pesar de que todas las variables tengan números, esto no quiere decir que sean numéricas. Por ejemplo, la variable `estado_civil` tiene los valores 0-1-2, que sería lo mismo que si tuviera los valores soltero-casado-divorciado. Hay otras variables donde esto no ocurre, por ejemplo el número de hijos, que a pesar de ser categórica sí que son números, ya que es ordinal. La manera de diferenciarlo es, en el caso del número de hijos, 1 hijo es menos que 2 hijos, mientras que con el estado civil no hay un orden.\n",
    "\n",
    "Una manera de pasar las variables categóricas en numéricas es aplicando _one-hot encoding_. Por ejemplo, en el caso de la variable `estado_civil`, lo que se haría sería crear tres columnas nuevas: `soltero`, `casado` y `divorciado`. Estas columnas tendrían los valores 0-1, por ejemplo, en el caso de la columna `soltero` tendría el valor 1 cuando `estado_civil = soltero`, y cero en otro caso."
   ]
  },
  {
   "cell_type": "code",
   "execution_count": 22,
   "metadata": {},
   "outputs": [
    {
     "data": {
      "text/html": [
       "<div>\n",
       "<style scoped>\n",
       "    .dataframe tbody tr th:only-of-type {\n",
       "        vertical-align: middle;\n",
       "    }\n",
       "\n",
       "    .dataframe tbody tr th {\n",
       "        vertical-align: top;\n",
       "    }\n",
       "\n",
       "    .dataframe thead th {\n",
       "        text-align: right;\n",
       "    }\n",
       "</style>\n",
       "<table border=\"1\" class=\"dataframe\">\n",
       "  <thead>\n",
       "    <tr style=\"text-align: right;\">\n",
       "      <th></th>\n",
       "      <th>ingresos</th>\n",
       "      <th>hijos</th>\n",
       "      <th>trabajo</th>\n",
       "      <th>hipoteca</th>\n",
       "      <th>gastos</th>\n",
       "      <th>financiar</th>\n",
       "      <th>soltero</th>\n",
       "      <th>casado</th>\n",
       "      <th>divorciado</th>\n",
       "    </tr>\n",
       "  </thead>\n",
       "  <tbody>\n",
       "    <tr>\n",
       "      <th>0</th>\n",
       "      <td>6000</td>\n",
       "      <td>2</td>\n",
       "      <td>2</td>\n",
       "      <td>1</td>\n",
       "      <td>1600</td>\n",
       "      <td>450000</td>\n",
       "      <td>1.0</td>\n",
       "      <td>0.0</td>\n",
       "      <td>0.0</td>\n",
       "    </tr>\n",
       "    <tr>\n",
       "      <th>1</th>\n",
       "      <td>6745</td>\n",
       "      <td>3</td>\n",
       "      <td>6</td>\n",
       "      <td>0</td>\n",
       "      <td>1496</td>\n",
       "      <td>680137</td>\n",
       "      <td>0.0</td>\n",
       "      <td>1.0</td>\n",
       "      <td>0.0</td>\n",
       "    </tr>\n",
       "    <tr>\n",
       "      <th>2</th>\n",
       "      <td>6455</td>\n",
       "      <td>1</td>\n",
       "      <td>8</td>\n",
       "      <td>1</td>\n",
       "      <td>1926</td>\n",
       "      <td>379242</td>\n",
       "      <td>0.0</td>\n",
       "      <td>0.0</td>\n",
       "      <td>1.0</td>\n",
       "    </tr>\n",
       "    <tr>\n",
       "      <th>3</th>\n",
       "      <td>7098</td>\n",
       "      <td>0</td>\n",
       "      <td>3</td>\n",
       "      <td>0</td>\n",
       "      <td>1547</td>\n",
       "      <td>715439</td>\n",
       "      <td>1.0</td>\n",
       "      <td>0.0</td>\n",
       "      <td>0.0</td>\n",
       "    </tr>\n",
       "    <tr>\n",
       "      <th>4</th>\n",
       "      <td>6167</td>\n",
       "      <td>0</td>\n",
       "      <td>3</td>\n",
       "      <td>1</td>\n",
       "      <td>1606</td>\n",
       "      <td>390444</td>\n",
       "      <td>1.0</td>\n",
       "      <td>0.0</td>\n",
       "      <td>0.0</td>\n",
       "    </tr>\n",
       "  </tbody>\n",
       "</table>\n",
       "</div>"
      ],
      "text/plain": [
       "   ingresos  hijos  trabajo  hipoteca  gastos  financiar  soltero  casado  \\\n",
       "0      6000      2        2         1    1600     450000      1.0     0.0   \n",
       "1      6745      3        6         0    1496     680137      0.0     1.0   \n",
       "2      6455      1        8         1    1926     379242      0.0     0.0   \n",
       "3      7098      0        3         0    1547     715439      1.0     0.0   \n",
       "4      6167      0        3         1    1606     390444      1.0     0.0   \n",
       "\n",
       "   divorciado  \n",
       "0         0.0  \n",
       "1         0.0  \n",
       "2         1.0  \n",
       "3         0.0  \n",
       "4         0.0  "
      ]
     },
     "execution_count": 22,
     "metadata": {},
     "output_type": "execute_result"
    }
   ],
   "source": [
    "from sklearn.preprocessing import OneHotEncoder\n",
    "encoder = OneHotEncoder()\n",
    "\n",
    "encoder_df = pd.DataFrame(encoder.fit_transform(hipotecas[['estado_civil']]).toarray())\n",
    "\n",
    "encoder_df.round(0).astype(int)\n",
    "\n",
    "encoder_df.columns = ['soltero', 'casado', 'divorciado']\n",
    "\n",
    "hipotecas_encode = hipotecas.join(encoder_df)\n",
    "hipotecas_encode.drop('estado_civil', axis=1, inplace=True)\n",
    "\n",
    "hipotecas_encode.head()"
   ]
  },
  {
   "cell_type": "code",
   "execution_count": 23,
   "metadata": {},
   "outputs": [
    {
     "data": {
      "text/html": [
       "<div>\n",
       "<style scoped>\n",
       "    .dataframe tbody tr th:only-of-type {\n",
       "        vertical-align: middle;\n",
       "    }\n",
       "\n",
       "    .dataframe tbody tr th {\n",
       "        vertical-align: top;\n",
       "    }\n",
       "\n",
       "    .dataframe thead th {\n",
       "        text-align: right;\n",
       "    }\n",
       "</style>\n",
       "<table border=\"1\" class=\"dataframe\">\n",
       "  <thead>\n",
       "    <tr style=\"text-align: right;\">\n",
       "      <th></th>\n",
       "      <th>ingresos</th>\n",
       "      <th>hijos</th>\n",
       "      <th>hipoteca</th>\n",
       "      <th>gastos</th>\n",
       "      <th>financiar</th>\n",
       "      <th>soltero</th>\n",
       "      <th>casado</th>\n",
       "      <th>divorciado</th>\n",
       "      <th>sin_empleo</th>\n",
       "      <th>autonomo</th>\n",
       "      <th>empleado</th>\n",
       "      <th>empresario</th>\n",
       "      <th>pareja_autonomos</th>\n",
       "      <th>pareja_empleados</th>\n",
       "      <th>pareja_autonomo_asalariado</th>\n",
       "      <th>pareja_empresario_autónomo</th>\n",
       "      <th>dos_empresario_empleado</th>\n",
       "    </tr>\n",
       "  </thead>\n",
       "  <tbody>\n",
       "    <tr>\n",
       "      <th>0</th>\n",
       "      <td>6000</td>\n",
       "      <td>2</td>\n",
       "      <td>1</td>\n",
       "      <td>1600</td>\n",
       "      <td>450000</td>\n",
       "      <td>1.0</td>\n",
       "      <td>0.0</td>\n",
       "      <td>0.0</td>\n",
       "      <td>0.0</td>\n",
       "      <td>0.0</td>\n",
       "      <td>1.0</td>\n",
       "      <td>0.0</td>\n",
       "      <td>0.0</td>\n",
       "      <td>0.0</td>\n",
       "      <td>0.0</td>\n",
       "      <td>0.0</td>\n",
       "      <td>0.0</td>\n",
       "    </tr>\n",
       "    <tr>\n",
       "      <th>1</th>\n",
       "      <td>6745</td>\n",
       "      <td>3</td>\n",
       "      <td>0</td>\n",
       "      <td>1496</td>\n",
       "      <td>680137</td>\n",
       "      <td>0.0</td>\n",
       "      <td>1.0</td>\n",
       "      <td>0.0</td>\n",
       "      <td>0.0</td>\n",
       "      <td>0.0</td>\n",
       "      <td>0.0</td>\n",
       "      <td>0.0</td>\n",
       "      <td>0.0</td>\n",
       "      <td>0.0</td>\n",
       "      <td>1.0</td>\n",
       "      <td>0.0</td>\n",
       "      <td>0.0</td>\n",
       "    </tr>\n",
       "    <tr>\n",
       "      <th>2</th>\n",
       "      <td>6455</td>\n",
       "      <td>1</td>\n",
       "      <td>1</td>\n",
       "      <td>1926</td>\n",
       "      <td>379242</td>\n",
       "      <td>0.0</td>\n",
       "      <td>0.0</td>\n",
       "      <td>1.0</td>\n",
       "      <td>0.0</td>\n",
       "      <td>0.0</td>\n",
       "      <td>0.0</td>\n",
       "      <td>0.0</td>\n",
       "      <td>0.0</td>\n",
       "      <td>0.0</td>\n",
       "      <td>0.0</td>\n",
       "      <td>0.0</td>\n",
       "      <td>1.0</td>\n",
       "    </tr>\n",
       "    <tr>\n",
       "      <th>3</th>\n",
       "      <td>7098</td>\n",
       "      <td>0</td>\n",
       "      <td>0</td>\n",
       "      <td>1547</td>\n",
       "      <td>715439</td>\n",
       "      <td>1.0</td>\n",
       "      <td>0.0</td>\n",
       "      <td>0.0</td>\n",
       "      <td>0.0</td>\n",
       "      <td>0.0</td>\n",
       "      <td>0.0</td>\n",
       "      <td>1.0</td>\n",
       "      <td>0.0</td>\n",
       "      <td>0.0</td>\n",
       "      <td>0.0</td>\n",
       "      <td>0.0</td>\n",
       "      <td>0.0</td>\n",
       "    </tr>\n",
       "    <tr>\n",
       "      <th>4</th>\n",
       "      <td>6167</td>\n",
       "      <td>0</td>\n",
       "      <td>1</td>\n",
       "      <td>1606</td>\n",
       "      <td>390444</td>\n",
       "      <td>1.0</td>\n",
       "      <td>0.0</td>\n",
       "      <td>0.0</td>\n",
       "      <td>0.0</td>\n",
       "      <td>0.0</td>\n",
       "      <td>0.0</td>\n",
       "      <td>1.0</td>\n",
       "      <td>0.0</td>\n",
       "      <td>0.0</td>\n",
       "      <td>0.0</td>\n",
       "      <td>0.0</td>\n",
       "      <td>0.0</td>\n",
       "    </tr>\n",
       "  </tbody>\n",
       "</table>\n",
       "</div>"
      ],
      "text/plain": [
       "   ingresos  hijos  hipoteca  gastos  financiar  soltero  casado  divorciado  \\\n",
       "0      6000      2         1    1600     450000      1.0     0.0         0.0   \n",
       "1      6745      3         0    1496     680137      0.0     1.0         0.0   \n",
       "2      6455      1         1    1926     379242      0.0     0.0         1.0   \n",
       "3      7098      0         0    1547     715439      1.0     0.0         0.0   \n",
       "4      6167      0         1    1606     390444      1.0     0.0         0.0   \n",
       "\n",
       "   sin_empleo  autonomo  empleado  empresario  pareja_autonomos  \\\n",
       "0         0.0       0.0       1.0         0.0               0.0   \n",
       "1         0.0       0.0       0.0         0.0               0.0   \n",
       "2         0.0       0.0       0.0         0.0               0.0   \n",
       "3         0.0       0.0       0.0         1.0               0.0   \n",
       "4         0.0       0.0       0.0         1.0               0.0   \n",
       "\n",
       "   pareja_empleados  pareja_autonomo_asalariado  pareja_empresario_autónomo  \\\n",
       "0               0.0                         0.0                         0.0   \n",
       "1               0.0                         1.0                         0.0   \n",
       "2               0.0                         0.0                         0.0   \n",
       "3               0.0                         0.0                         0.0   \n",
       "4               0.0                         0.0                         0.0   \n",
       "\n",
       "   dos_empresario_empleado  \n",
       "0                      0.0  \n",
       "1                      0.0  \n",
       "2                      1.0  \n",
       "3                      0.0  \n",
       "4                      0.0  "
      ]
     },
     "execution_count": 23,
     "metadata": {},
     "output_type": "execute_result"
    }
   ],
   "source": [
    "encoder = OneHotEncoder()\n",
    "\n",
    "encoder_df = pd.DataFrame(encoder.fit_transform(hipotecas[['trabajo']]).toarray())\n",
    "\n",
    "encoder_df.columns = ['sin_empleo', 'autonomo','empleado', 'empresario',\n",
    "                      'pareja_autonomos', 'pareja_empleados',\n",
    "                      'pareja_autonomo_asalariado', 'pareja_empresario_autónomo', \n",
    "                    'dos_empresario_empleado']\n",
    "\n",
    "hipotecas_encode = hipotecas_encode.join(encoder_df)\n",
    "hipotecas_encode.drop('trabajo', axis=1, inplace=True)\n",
    "\n",
    "hipotecas_encode.head()"
   ]
  },
  {
   "cell_type": "markdown",
   "metadata": {},
   "source": [
    "**¿Por qué es necesario hacer one-hot encoding?**\n",
    "\n",
    "Para convertir variables categóricas en un formato que los algoritmos de machine learning pueden usar fácilmente. La idea básica de la codificación one-hot es crear nuevas variables que toman los valores 0 y 1 para representar los valores categóricos originales.\n",
    "\n",
    "**¿Qué diferencia hay entre tener una columna estado_civil o tres columnas soltero, casado y divorciado si la información es la misma?**\n",
    "\n",
    "Las columnas soltero, casado y divorciado representan a la columna estado_civil en el dataset por lo que estaría de más.\n",
    "\n",
    "**¿Por qué es incorrecto a nivel conceptual dejar las variables tal y como las teníamos, si eran números y el modelo hubiera funcionado?**\n",
    "\n",
    "El modelo hubiese funcionado, pero mal. Voy a explicarme con el algoritmo de DecisionTree. La variable estado civil tiene los valores de [0,1,2]. Si hubiésemos conservado la variable `estado_civil`, el modelo pudo haber creado una condición que separe un subárbol cuando `estado_civil <= 0.5`. Esta condición no se podría interpretar, ya que 0.5 no representa ningún estado civil en el dataset. Además, el dataset ya cuenta con 3 variables que representan estado_civil, por lo que es mejor borrarla."
   ]
  },
  {
   "cell_type": "markdown",
   "metadata": {},
   "source": [
    "### 2.3. Entrenamiento de un modelo\n",
    "\n",
    "Ahora que ya tenemos el _dataset_ limpio y hemos hecho un análisis de las diferentes variables, podemos proceder a entrenar un modelo para predecir si se concede una hipoteca o no. \n",
    "\n",
    "Probaremos con 2 modelos diferentes e interpretaremos los resultados. \n",
    "\n",
    "Para empezar, separamos el dataset entre _train_ y _test_."
   ]
  },
  {
   "cell_type": "code",
   "execution_count": 25,
   "metadata": {},
   "outputs": [],
   "source": [
    "from sklearn.model_selection import train_test_split\n",
    "\n",
    "feature_names = [\n",
    "    'ingresos', 'hijos', 'gastos', 'financiar', \n",
    "    'soltero', 'casado', 'divorciado',\n",
    "    'sin_empleo', 'autonomo','empleado', 'empresario',\n",
    "                      'pareja_autonomos', 'pareja_empleados',\n",
    "                      'pareja_autonomo_asalariado', 'pareja_empresario_autónomo', \n",
    "                    'dos_empresario_empleado']\n",
    "\n",
    "target_name = ['hipoteca']\n",
    "\n",
    "X_train, X_test, y_train, y_test = train_test_split(\n",
    "    hipotecas_encode[feature_names], \n",
    "    hipotecas_encode[target_name], \n",
    "    random_state=42, \n",
    "    test_size = 0.2)"
   ]
  },
  {
   "cell_type": "code",
   "execution_count": 27,
   "metadata": {},
   "outputs": [
    {
     "data": {
      "text/plain": [
       "DecisionTreeClassifier(max_depth=5)"
      ]
     },
     "execution_count": 27,
     "metadata": {},
     "output_type": "execute_result"
    }
   ],
   "source": [
    "from sklearn.tree import plot_tree\n",
    "from sklearn.tree import DecisionTreeClassifier\n",
    "\n",
    "tree_model = DecisionTreeClassifier(max_depth= 5)\n",
    "tree_model.fit(X_train, y_train)"
   ]
  },
  {
   "cell_type": "code",
   "execution_count": 28,
   "metadata": {},
   "outputs": [
    {
     "data": {
      "image/png": "[encoded data removed]",
      "text/plain": [
       "<Figure size 1080x720 with 1 Axes>"
      ]
     },
     "metadata": {
      "needs_background": "light"
     },
     "output_type": "display_data"
    }
   ],
   "source": [
    "plt.figure(figsize=(15,10))\n",
    "dot_data = plot_tree(tree_model,filled = True, \n",
    "          feature_names = feature_names,\n",
    "         class_names=True)\n",
    "\n",
    "plt.show()"
   ]
  },
  {
   "cell_type": "code",
   "execution_count": 29,
   "metadata": {},
   "outputs": [],
   "source": [
    "y_pred = tree_model.predict(X_test)"
   ]
  },
  {
   "cell_type": "code",
   "execution_count": 30,
   "metadata": {},
   "outputs": [
    {
     "data": {
      "text/plain": [
       "array([[24,  0],\n",
       "       [ 6, 11]], dtype=int64)"
      ]
     },
     "execution_count": 30,
     "metadata": {},
     "output_type": "execute_result"
    }
   ],
   "source": [
    "from sklearn.metrics import accuracy_score, confusion_matrix\n",
    "\n",
    "confusion_matrix(y_test, y_pred)"
   ]
  },
  {
   "cell_type": "markdown",
   "metadata": {},
   "source": [
    "La matriz de confusión se divide en 4 secciones:\n",
    "\n",
    "* Verdaderos positivos (TP): 22 cliente con hipotecas que la predicción ha sido correcta.\n",
    "* Falsos positivos (FP): la predicción dio 6 clientes con hipotecas cuando no se les deber dar una.\n",
    "* Falso negativo (FN): La predicción de 2 solicitantes sin hipotecas cuando se les puede dar una.\n",
    "* Verdadero negativo (TN): 11 solicitantes sin hupoteas que la predicción ha sido correcta."
   ]
  },
  {
   "cell_type": "code",
   "execution_count": 31,
   "metadata": {},
   "outputs": [
    {
     "data": {
      "text/plain": [
       "0.8536585365853658"
      ]
     },
     "execution_count": 31,
     "metadata": {},
     "output_type": "execute_result"
    }
   ],
   "source": [
    "accuracy= accuracy_score(y_test,y_pred)\n",
    "accuracy"
   ]
  },
  {
   "cell_type": "code",
   "execution_count": 32,
   "metadata": {},
   "outputs": [
    {
     "data": {
      "text/plain": [
       "[('ingresos', 0.35190346209455814),\n",
       " ('hijos', 0.10686158305645364),\n",
       " ('gastos', 0.023752989506688495),\n",
       " ('financiar', 0.4810036900444934),\n",
       " ('soltero', 0.0),\n",
       " ('casado', 0.0),\n",
       " ('divorciado', 0.036478275297806353),\n",
       " ('sin_empleo', 0.0),\n",
       " ('autonomo', 0.0),\n",
       " ('empleado', 0.0),\n",
       " ('empresario', 0.0),\n",
       " ('pareja_autonomos', 0.0),\n",
       " ('pareja_empleados', 0.0),\n",
       " ('pareja_autonomo_asalariado', 0.0),\n",
       " ('pareja_empresario_autónomo', 0.0),\n",
       " ('dos_empresario_empleado', 0.0)]"
      ]
     },
     "execution_count": 32,
     "metadata": {},
     "output_type": "execute_result"
    }
   ],
   "source": [
    "list(zip(feature_names, tree_model.feature_importances_))"
   ]
  },
  {
   "cell_type": "markdown",
   "metadata": {},
   "source": [
    "**¿Cuáles son las variables que han tenido más peso?**\n",
    "\n",
    "Las varaibles que no aportan nada al modelo son: gastos, soltero, casado, autonomo, empleado, empresario y pareja_autonomo_asalariado\n",
    "\n",
    "Las variables que han tenido más peso en el modelo son: financiar, ingresos y sin_empleo."
   ]
  },
  {
   "cell_type": "markdown",
   "metadata": {},
   "source": [
    "\n",
    "**¿Has obtenido una buena precisión evaluando en test?**\n",
    "\n",
    "La matriz de confusión se divide en 4 secciones:\n",
    "\n",
    "* Verdaderos positivos (TP): 22 cliente con hipotecas que la predicción ha sido correcta.\n",
    "* Falsos positivos (FP): la predicción dio 6 clientes con hipotecas cuando no se les deber dar una.\n",
    "* Falso negativo (FN): La predicción de 2 solicitantes sin hipotecas cuando se les puede dar una.\n",
    "* Verdadero negativo (TN): 11 solicitantes sin hupoteas que la predicción ha sido correcta.\n",
    "\n",
    "El modelo tiene una precisión del 0.80.\n",
    "\n",
    "**¿Se ha producido overfitting?**\n",
    "\n",
    "Para que el modelo tenga overfitting debería clasificar todos los datos de entrenamiento del dataset o dividir el conjunto de datos hasta que no puede tener más subárboles.\n",
    "\n",
    "A continuación, se calculará la precisión con los datos de entrenamiento:"
   ]
  },
  {
   "cell_type": "code",
   "execution_count": 33,
   "metadata": {},
   "outputs": [
    {
     "data": {
      "text/plain": [
       "0.9875776397515528"
      ]
     },
     "execution_count": 33,
     "metadata": {},
     "output_type": "execute_result"
    }
   ],
   "source": [
    "y_pred = tree_model.predict(X_train)\n",
    "accuracy= accuracy_score(y_train,y_pred)\n",
    "accuracy"
   ]
  },
  {
   "cell_type": "markdown",
   "metadata": {},
   "source": [
    "La precisión del modelo con los mismos datos de entrenamiento es del 99%, casi ha clasificado correctamente todos los datos de entrenamiento, por lo que podría exister overfitting. Realizaré una prueba más. A continuación, obtendré la máxima profundidad del árbol estableciendo `min_samples_split = 2` para que el algoritmo divida las ramas con dos registros."
   ]
  },
  {
   "cell_type": "code",
   "execution_count": 34,
   "metadata": {},
   "outputs": [
    {
     "data": {
      "text/plain": [
       "DecisionTreeClassifier()"
      ]
     },
     "execution_count": 34,
     "metadata": {},
     "output_type": "execute_result"
    }
   ],
   "source": [
    "tree_model = DecisionTreeClassifier(min_samples_split=2)\n",
    "tree_model.fit(X_train, y_train)"
   ]
  },
  {
   "cell_type": "code",
   "execution_count": 35,
   "metadata": {},
   "outputs": [
    {
     "data": {
      "text/plain": [
       "7"
      ]
     },
     "execution_count": 35,
     "metadata": {},
     "output_type": "execute_result"
    }
   ],
   "source": [
    "tree_model.get_depth()"
   ]
  },
  {
   "cell_type": "markdown",
   "metadata": {},
   "source": [
    "La máxima profundida que puede tener el árbol con los datos de entrenamiento es de 7, cerca de la profundidad de 5 que se le estableció. Existe overfitting."
   ]
  },
  {
   "cell_type": "markdown",
   "metadata": {},
   "source": [
    "Los hiperparámetros que se establecerán son n_estimators y max_depth. Como el dataset de entrenamiento tiene 161 registros, en n_estimators se probaron los valores [5,10,15]. Con max_depth se probará con [3,4], debido a que con el valor de 5 en el modelo anterior producía overfitting."
   ]
  },
  {
   "cell_type": "code",
   "execution_count": 36,
   "metadata": {},
   "outputs": [],
   "source": [
    "n_estimators_range = [5,10,15]\n",
    "max_depth_range = [3,4]\n",
    "\n",
    "param_grid = dict(n_estimators=n_estimators_range, max_depth=max_depth_range)"
   ]
  },
  {
   "cell_type": "code",
   "execution_count": 42,
   "metadata": {},
   "outputs": [
    {
     "name": "stdout",
     "output_type": "stream",
     "text": [
      "Fitting 4 folds for each of 6 candidates, totalling 24 fits\n"
     ]
    },
    {
     "name": "stderr",
     "output_type": "stream",
     "text": [
      "[Parallel(n_jobs=1)]: Using backend SequentialBackend with 1 concurrent workers.\n",
      "C:\\Users\\cesar\\anaconda3\\lib\\site-packages\\sklearn\\utils\\validation.py:72: DataConversionWarning: A column-vector y was passed when a 1d array was expected. Please change the shape of y to (n_samples, ), for example using ravel().\n",
      "  return f(**kwargs)\n",
      "C:\\Users\\cesar\\anaconda3\\lib\\site-packages\\sklearn\\utils\\validation.py:72: DataConversionWarning: A column-vector y was passed when a 1d array was expected. Please change the shape of y to (n_samples, ), for example using ravel().\n",
      "  return f(**kwargs)\n",
      "C:\\Users\\cesar\\anaconda3\\lib\\site-packages\\sklearn\\utils\\validation.py:72: DataConversionWarning: A column-vector y was passed when a 1d array was expected. Please change the shape of y to (n_samples, ), for example using ravel().\n",
      "  return f(**kwargs)\n",
      "C:\\Users\\cesar\\anaconda3\\lib\\site-packages\\sklearn\\utils\\validation.py:72: DataConversionWarning: A column-vector y was passed when a 1d array was expected. Please change the shape of y to (n_samples, ), for example using ravel().\n",
      "  return f(**kwargs)\n",
      "C:\\Users\\cesar\\anaconda3\\lib\\site-packages\\sklearn\\utils\\validation.py:72: DataConversionWarning: A column-vector y was passed when a 1d array was expected. Please change the shape of y to (n_samples, ), for example using ravel().\n",
      "  return f(**kwargs)\n",
      "C:\\Users\\cesar\\anaconda3\\lib\\site-packages\\sklearn\\utils\\validation.py:72: DataConversionWarning: A column-vector y was passed when a 1d array was expected. Please change the shape of y to (n_samples, ), for example using ravel().\n",
      "  return f(**kwargs)\n",
      "C:\\Users\\cesar\\anaconda3\\lib\\site-packages\\sklearn\\utils\\validation.py:72: DataConversionWarning: A column-vector y was passed when a 1d array was expected. Please change the shape of y to (n_samples, ), for example using ravel().\n",
      "  return f(**kwargs)\n",
      "C:\\Users\\cesar\\anaconda3\\lib\\site-packages\\sklearn\\utils\\validation.py:72: DataConversionWarning: A column-vector y was passed when a 1d array was expected. Please change the shape of y to (n_samples, ), for example using ravel().\n",
      "  return f(**kwargs)\n",
      "C:\\Users\\cesar\\anaconda3\\lib\\site-packages\\sklearn\\utils\\validation.py:72: DataConversionWarning: A column-vector y was passed when a 1d array was expected. Please change the shape of y to (n_samples, ), for example using ravel().\n",
      "  return f(**kwargs)\n",
      "C:\\Users\\cesar\\anaconda3\\lib\\site-packages\\sklearn\\utils\\validation.py:72: DataConversionWarning: A column-vector y was passed when a 1d array was expected. Please change the shape of y to (n_samples, ), for example using ravel().\n",
      "  return f(**kwargs)\n",
      "C:\\Users\\cesar\\anaconda3\\lib\\site-packages\\sklearn\\utils\\validation.py:72: DataConversionWarning: A column-vector y was passed when a 1d array was expected. Please change the shape of y to (n_samples, ), for example using ravel().\n",
      "  return f(**kwargs)\n",
      "C:\\Users\\cesar\\anaconda3\\lib\\site-packages\\sklearn\\utils\\validation.py:72: DataConversionWarning: A column-vector y was passed when a 1d array was expected. Please change the shape of y to (n_samples, ), for example using ravel().\n",
      "  return f(**kwargs)\n",
      "C:\\Users\\cesar\\anaconda3\\lib\\site-packages\\sklearn\\utils\\validation.py:72: DataConversionWarning: A column-vector y was passed when a 1d array was expected. Please change the shape of y to (n_samples, ), for example using ravel().\n",
      "  return f(**kwargs)\n",
      "C:\\Users\\cesar\\anaconda3\\lib\\site-packages\\sklearn\\utils\\validation.py:72: DataConversionWarning: A column-vector y was passed when a 1d array was expected. Please change the shape of y to (n_samples, ), for example using ravel().\n",
      "  return f(**kwargs)\n",
      "C:\\Users\\cesar\\anaconda3\\lib\\site-packages\\sklearn\\utils\\validation.py:72: DataConversionWarning: A column-vector y was passed when a 1d array was expected. Please change the shape of y to (n_samples, ), for example using ravel().\n",
      "  return f(**kwargs)\n",
      "C:\\Users\\cesar\\anaconda3\\lib\\site-packages\\sklearn\\utils\\validation.py:72: DataConversionWarning: A column-vector y was passed when a 1d array was expected. Please change the shape of y to (n_samples, ), for example using ravel().\n",
      "  return f(**kwargs)\n",
      "C:\\Users\\cesar\\anaconda3\\lib\\site-packages\\sklearn\\utils\\validation.py:72: DataConversionWarning: A column-vector y was passed when a 1d array was expected. Please change the shape of y to (n_samples, ), for example using ravel().\n",
      "  return f(**kwargs)\n",
      "C:\\Users\\cesar\\anaconda3\\lib\\site-packages\\sklearn\\utils\\validation.py:72: DataConversionWarning: A column-vector y was passed when a 1d array was expected. Please change the shape of y to (n_samples, ), for example using ravel().\n",
      "  return f(**kwargs)\n",
      "C:\\Users\\cesar\\anaconda3\\lib\\site-packages\\sklearn\\utils\\validation.py:72: DataConversionWarning: A column-vector y was passed when a 1d array was expected. Please change the shape of y to (n_samples, ), for example using ravel().\n",
      "  return f(**kwargs)\n",
      "C:\\Users\\cesar\\anaconda3\\lib\\site-packages\\sklearn\\utils\\validation.py:72: DataConversionWarning: A column-vector y was passed when a 1d array was expected. Please change the shape of y to (n_samples, ), for example using ravel().\n",
      "  return f(**kwargs)\n",
      "C:\\Users\\cesar\\anaconda3\\lib\\site-packages\\sklearn\\utils\\validation.py:72: DataConversionWarning: A column-vector y was passed when a 1d array was expected. Please change the shape of y to (n_samples, ), for example using ravel().\n",
      "  return f(**kwargs)\n",
      "C:\\Users\\cesar\\anaconda3\\lib\\site-packages\\sklearn\\utils\\validation.py:72: DataConversionWarning: A column-vector y was passed when a 1d array was expected. Please change the shape of y to (n_samples, ), for example using ravel().\n",
      "  return f(**kwargs)\n",
      "C:\\Users\\cesar\\anaconda3\\lib\\site-packages\\sklearn\\utils\\validation.py:72: DataConversionWarning: A column-vector y was passed when a 1d array was expected. Please change the shape of y to (n_samples, ), for example using ravel().\n",
      "  return f(**kwargs)\n",
      "C:\\Users\\cesar\\anaconda3\\lib\\site-packages\\sklearn\\utils\\validation.py:72: DataConversionWarning: A column-vector y was passed when a 1d array was expected. Please change the shape of y to (n_samples, ), for example using ravel().\n",
      "  return f(**kwargs)\n",
      "[Parallel(n_jobs=1)]: Done  24 out of  24 | elapsed:    0.1s finished\n",
      "C:\\Users\\cesar\\anaconda3\\lib\\site-packages\\sklearn\\utils\\validation.py:72: DataConversionWarning: A column-vector y was passed when a 1d array was expected. Please change the shape of y to (n_samples, ), for example using ravel().\n",
      "  return f(**kwargs)\n"
     ]
    }
   ],
   "source": [
    "from sklearn.ensemble import GradientBoostingClassifier, RandomForestClassifier\n",
    "from sklearn.model_selection import GridSearchCV\n",
    "\n",
    "boosting_model = GradientBoostingClassifier()\n",
    "grid = GridSearchCV(boosting_model, param_grid, cv=4, scoring='accuracy', verbose=1)\n",
    "\n",
    "grid_search=grid.fit(X_train, y_train)"
   ]
  },
  {
   "cell_type": "code",
   "execution_count": 43,
   "metadata": {},
   "outputs": [
    {
     "data": {
      "text/plain": [
       "{'max_depth': 4, 'n_estimators': 10}"
      ]
     },
     "execution_count": 43,
     "metadata": {},
     "output_type": "execute_result"
    }
   ],
   "source": [
    "grid_search.best_params_"
   ]
  },
  {
   "cell_type": "code",
   "execution_count": 44,
   "metadata": {},
   "outputs": [
    {
     "data": {
      "text/plain": [
       "0.9190548780487805"
      ]
     },
     "execution_count": 44,
     "metadata": {},
     "output_type": "execute_result"
    }
   ],
   "source": [
    "grid_search.best_score_"
   ]
  },
  {
   "cell_type": "code",
   "execution_count": 45,
   "metadata": {},
   "outputs": [
    {
     "name": "stdout",
     "output_type": "stream",
     "text": [
      "Fitting 4 folds for each of 6 candidates, totalling 24 fits\n"
     ]
    },
    {
     "name": "stderr",
     "output_type": "stream",
     "text": [
      "[Parallel(n_jobs=1)]: Using backend SequentialBackend with 1 concurrent workers.\n",
      "C:\\Users\\cesar\\anaconda3\\lib\\site-packages\\sklearn\\model_selection\\_validation.py:531: DataConversionWarning: A column-vector y was passed when a 1d array was expected. Please change the shape of y to (n_samples,), for example using ravel().\n",
      "  estimator.fit(X_train, y_train, **fit_params)\n",
      "C:\\Users\\cesar\\anaconda3\\lib\\site-packages\\sklearn\\model_selection\\_validation.py:531: DataConversionWarning: A column-vector y was passed when a 1d array was expected. Please change the shape of y to (n_samples,), for example using ravel().\n",
      "  estimator.fit(X_train, y_train, **fit_params)\n",
      "C:\\Users\\cesar\\anaconda3\\lib\\site-packages\\sklearn\\model_selection\\_validation.py:531: DataConversionWarning: A column-vector y was passed when a 1d array was expected. Please change the shape of y to (n_samples,), for example using ravel().\n",
      "  estimator.fit(X_train, y_train, **fit_params)\n",
      "C:\\Users\\cesar\\anaconda3\\lib\\site-packages\\sklearn\\model_selection\\_validation.py:531: DataConversionWarning: A column-vector y was passed when a 1d array was expected. Please change the shape of y to (n_samples,), for example using ravel().\n",
      "  estimator.fit(X_train, y_train, **fit_params)\n",
      "C:\\Users\\cesar\\anaconda3\\lib\\site-packages\\sklearn\\model_selection\\_validation.py:531: DataConversionWarning: A column-vector y was passed when a 1d array was expected. Please change the shape of y to (n_samples,), for example using ravel().\n",
      "  estimator.fit(X_train, y_train, **fit_params)\n",
      "C:\\Users\\cesar\\anaconda3\\lib\\site-packages\\sklearn\\model_selection\\_validation.py:531: DataConversionWarning: A column-vector y was passed when a 1d array was expected. Please change the shape of y to (n_samples,), for example using ravel().\n",
      "  estimator.fit(X_train, y_train, **fit_params)\n",
      "C:\\Users\\cesar\\anaconda3\\lib\\site-packages\\sklearn\\model_selection\\_validation.py:531: DataConversionWarning: A column-vector y was passed when a 1d array was expected. Please change the shape of y to (n_samples,), for example using ravel().\n",
      "  estimator.fit(X_train, y_train, **fit_params)\n",
      "C:\\Users\\cesar\\anaconda3\\lib\\site-packages\\sklearn\\model_selection\\_validation.py:531: DataConversionWarning: A column-vector y was passed when a 1d array was expected. Please change the shape of y to (n_samples,), for example using ravel().\n",
      "  estimator.fit(X_train, y_train, **fit_params)\n",
      "C:\\Users\\cesar\\anaconda3\\lib\\site-packages\\sklearn\\model_selection\\_validation.py:531: DataConversionWarning: A column-vector y was passed when a 1d array was expected. Please change the shape of y to (n_samples,), for example using ravel().\n",
      "  estimator.fit(X_train, y_train, **fit_params)\n",
      "C:\\Users\\cesar\\anaconda3\\lib\\site-packages\\sklearn\\model_selection\\_validation.py:531: DataConversionWarning: A column-vector y was passed when a 1d array was expected. Please change the shape of y to (n_samples,), for example using ravel().\n",
      "  estimator.fit(X_train, y_train, **fit_params)\n",
      "C:\\Users\\cesar\\anaconda3\\lib\\site-packages\\sklearn\\model_selection\\_validation.py:531: DataConversionWarning: A column-vector y was passed when a 1d array was expected. Please change the shape of y to (n_samples,), for example using ravel().\n",
      "  estimator.fit(X_train, y_train, **fit_params)\n",
      "C:\\Users\\cesar\\anaconda3\\lib\\site-packages\\sklearn\\model_selection\\_validation.py:531: DataConversionWarning: A column-vector y was passed when a 1d array was expected. Please change the shape of y to (n_samples,), for example using ravel().\n",
      "  estimator.fit(X_train, y_train, **fit_params)\n",
      "C:\\Users\\cesar\\anaconda3\\lib\\site-packages\\sklearn\\model_selection\\_validation.py:531: DataConversionWarning: A column-vector y was passed when a 1d array was expected. Please change the shape of y to (n_samples,), for example using ravel().\n",
      "  estimator.fit(X_train, y_train, **fit_params)\n",
      "C:\\Users\\cesar\\anaconda3\\lib\\site-packages\\sklearn\\model_selection\\_validation.py:531: DataConversionWarning: A column-vector y was passed when a 1d array was expected. Please change the shape of y to (n_samples,), for example using ravel().\n",
      "  estimator.fit(X_train, y_train, **fit_params)\n",
      "C:\\Users\\cesar\\anaconda3\\lib\\site-packages\\sklearn\\model_selection\\_validation.py:531: DataConversionWarning: A column-vector y was passed when a 1d array was expected. Please change the shape of y to (n_samples,), for example using ravel().\n",
      "  estimator.fit(X_train, y_train, **fit_params)\n",
      "C:\\Users\\cesar\\anaconda3\\lib\\site-packages\\sklearn\\model_selection\\_validation.py:531: DataConversionWarning: A column-vector y was passed when a 1d array was expected. Please change the shape of y to (n_samples,), for example using ravel().\n",
      "  estimator.fit(X_train, y_train, **fit_params)\n",
      "C:\\Users\\cesar\\anaconda3\\lib\\site-packages\\sklearn\\model_selection\\_validation.py:531: DataConversionWarning: A column-vector y was passed when a 1d array was expected. Please change the shape of y to (n_samples,), for example using ravel().\n",
      "  estimator.fit(X_train, y_train, **fit_params)\n",
      "C:\\Users\\cesar\\anaconda3\\lib\\site-packages\\sklearn\\model_selection\\_validation.py:531: DataConversionWarning: A column-vector y was passed when a 1d array was expected. Please change the shape of y to (n_samples,), for example using ravel().\n",
      "  estimator.fit(X_train, y_train, **fit_params)\n",
      "C:\\Users\\cesar\\anaconda3\\lib\\site-packages\\sklearn\\model_selection\\_validation.py:531: DataConversionWarning: A column-vector y was passed when a 1d array was expected. Please change the shape of y to (n_samples,), for example using ravel().\n",
      "  estimator.fit(X_train, y_train, **fit_params)\n",
      "C:\\Users\\cesar\\anaconda3\\lib\\site-packages\\sklearn\\model_selection\\_validation.py:531: DataConversionWarning: A column-vector y was passed when a 1d array was expected. Please change the shape of y to (n_samples,), for example using ravel().\n",
      "  estimator.fit(X_train, y_train, **fit_params)\n",
      "C:\\Users\\cesar\\anaconda3\\lib\\site-packages\\sklearn\\model_selection\\_validation.py:531: DataConversionWarning: A column-vector y was passed when a 1d array was expected. Please change the shape of y to (n_samples,), for example using ravel().\n",
      "  estimator.fit(X_train, y_train, **fit_params)\n",
      "C:\\Users\\cesar\\anaconda3\\lib\\site-packages\\sklearn\\model_selection\\_validation.py:531: DataConversionWarning: A column-vector y was passed when a 1d array was expected. Please change the shape of y to (n_samples,), for example using ravel().\n",
      "  estimator.fit(X_train, y_train, **fit_params)\n",
      "C:\\Users\\cesar\\anaconda3\\lib\\site-packages\\sklearn\\model_selection\\_validation.py:531: DataConversionWarning: A column-vector y was passed when a 1d array was expected. Please change the shape of y to (n_samples,), for example using ravel().\n",
      "  estimator.fit(X_train, y_train, **fit_params)\n",
      "C:\\Users\\cesar\\anaconda3\\lib\\site-packages\\sklearn\\model_selection\\_validation.py:531: DataConversionWarning: A column-vector y was passed when a 1d array was expected. Please change the shape of y to (n_samples,), for example using ravel().\n",
      "  estimator.fit(X_train, y_train, **fit_params)\n",
      "[Parallel(n_jobs=1)]: Done  24 out of  24 | elapsed:    0.2s finished\n",
      "C:\\Users\\cesar\\anaconda3\\lib\\site-packages\\sklearn\\model_selection\\_search.py:765: DataConversionWarning: A column-vector y was passed when a 1d array was expected. Please change the shape of y to (n_samples,), for example using ravel().\n",
      "  self.best_estimator_.fit(X, y, **fit_params)\n"
     ]
    }
   ],
   "source": [
    "forest_model = RandomForestClassifier()\n",
    "\n",
    "grid = GridSearchCV(forest_model, param_grid, cv=4, scoring='accuracy', verbose=1)\n",
    "\n",
    "grid_search=grid.fit(X_train, y_train)"
   ]
  },
  {
   "cell_type": "code",
   "execution_count": 46,
   "metadata": {},
   "outputs": [
    {
     "data": {
      "text/plain": [
       "{'max_depth': 4, 'n_estimators': 5}"
      ]
     },
     "execution_count": 46,
     "metadata": {},
     "output_type": "execute_result"
    }
   ],
   "source": [
    "grid_search.best_params_"
   ]
  },
  {
   "cell_type": "code",
   "execution_count": 47,
   "metadata": {},
   "outputs": [
    {
     "data": {
      "text/plain": [
       "0.8821646341463414"
      ]
     },
     "execution_count": 47,
     "metadata": {},
     "output_type": "execute_result"
    }
   ],
   "source": [
    "grid_search.best_score_"
   ]
  },
  {
   "cell_type": "markdown",
   "metadata": {},
   "source": [
    "Con  Gradient Boosting se ha obtenido un mejor resultado que con Random Forest.\n",
    "\n",
    "Un _Random Forest_ / _Gradient Boosting_ no es tan fácil de interpretar como un simple _Decision Tree_. No podemos dibujar el árbol, porque son combinaciones de muchos árboles, pero si que podemos saber cuáles han sido las variables más decisivas a la hora de generar el modelo. Para saberlo, no podemos hacerlo a ojo mirando cómo se divide el árbol, sino que lo podemos consultar al modelo mediante la _feature importance_ de este."
   ]
  },
  {
   "cell_type": "code",
   "execution_count": 48,
   "metadata": {},
   "outputs": [
    {
     "name": "stderr",
     "output_type": "stream",
     "text": [
      "C:\\Users\\cesar\\anaconda3\\lib\\site-packages\\sklearn\\utils\\validation.py:72: DataConversionWarning: A column-vector y was passed when a 1d array was expected. Please change the shape of y to (n_samples, ), for example using ravel().\n",
      "  return f(**kwargs)\n"
     ]
    },
    {
     "data": {
      "text/plain": [
       "[('ingresos', 0.36310025790298744),\n",
       " ('hijos', 0.12259419713261373),\n",
       " ('gastos', 0.047242261198293986),\n",
       " ('financiar', 0.46706328376610484),\n",
       " ('soltero', 0.0),\n",
       " ('casado', 0.0),\n",
       " ('divorciado', 0.0),\n",
       " ('sin_empleo', 0.0),\n",
       " ('autonomo', 0.0),\n",
       " ('empleado', 0.0),\n",
       " ('empresario', 0.0),\n",
       " ('pareja_autonomos', 0.0),\n",
       " ('pareja_empleados', 0.0),\n",
       " ('pareja_autonomo_asalariado', 0.0),\n",
       " ('pareja_empresario_autónomo', 0.0),\n",
       " ('dos_empresario_empleado', 2.700080927277363e-18)]"
      ]
     },
     "execution_count": 48,
     "metadata": {},
     "output_type": "execute_result"
    }
   ],
   "source": [
    "boosting_model = GradientBoostingClassifier(max_depth=3, n_estimators=5)\n",
    "boosting_model.fit(X_train, y_train)\n",
    "\n",
    "list(zip(feature_names, boosting_model.feature_importances_))"
   ]
  },
  {
   "cell_type": "code",
   "execution_count": 49,
   "metadata": {},
   "outputs": [
    {
     "data": {
      "text/plain": [
       "0.8048780487804879"
      ]
     },
     "execution_count": 49,
     "metadata": {},
     "output_type": "execute_result"
    }
   ],
   "source": [
    "y_pred = boosting_model.predict(X_test)\n",
    "accuracy= accuracy_score(y_test,y_pred)\n",
    "accuracy"
   ]
  },
  {
   "cell_type": "code",
   "execution_count": 51,
   "metadata": {},
   "outputs": [
    {
     "name": "stderr",
     "output_type": "stream",
     "text": [
      "C:\\Users\\cesar\\anaconda3\\lib\\site-packages\\sklearn\\utils\\validation.py:72: DataConversionWarning: A column-vector y was passed when a 1d array was expected. Please change the shape of y to (n_samples, ), for example using ravel().\n",
      "  return f(**kwargs)\n"
     ]
    },
    {
     "data": {
      "text/plain": [
       "GradientBoostingClassifier(n_estimators=2)"
      ]
     },
     "execution_count": 51,
     "metadata": {},
     "output_type": "execute_result"
    }
   ],
   "source": [
    "boosting_model1 = GradientBoostingClassifier(n_estimators=2)\n",
    "boosting_model1.fit(X_train, y_train)"
   ]
  },
  {
   "cell_type": "code",
   "execution_count": 52,
   "metadata": {},
   "outputs": [
    {
     "data": {
      "text/plain": [
       "0.6894409937888198"
      ]
     },
     "execution_count": 52,
     "metadata": {},
     "output_type": "execute_result"
    }
   ],
   "source": [
    "y_pred = boosting_model1.predict(X_train)\n",
    "accuracy= accuracy_score(y_train,y_pred)\n",
    "accuracy"
   ]
  },
  {
   "cell_type": "markdown",
   "metadata": {},
   "source": [
    "**¿Cuáles son las variables que han tenido más peso?**\n",
    "\n",
    "Las variables con más peso utilizando Gradient Boosting son: financiar, ingresos y sin_empleo.\n",
    "\n",
    "**¿Has obtenido una buena precisión evaluando en test?**\n",
    "\n",
    "Se ha obtenido una precisión del 0.88 con los datos de prueba.\n",
    "\n",
    "**¿Se ha producido overfitting?**\n",
    "\n",
    "No. Si bien la máxima profundida que puede tener el modelo es de 3, la precisión con los mismos datos de entrenamiento es del 0.66. El modelo ha generalizado mejor los datos de entrenamiento que DecisionTree."
   ]
  }
 ],
 "metadata": {
  "kernelspec": {
   "display_name": "Python 3",
   "language": "python",
   "name": "python3"
  },
  "language_info": {
   "codemirror_mode": {
    "name": "ipython",
    "version": 3
   },
   "file_extension": ".py",
   "mimetype": "text/x-python",
   "name": "python",
   "nbconvert_exporter": "python",
   "pygments_lexer": "ipython3",
   "version": "3.8.5"
  }
 },
 "nbformat": 4,
 "nbformat_minor": 4
}
